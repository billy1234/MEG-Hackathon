{
 "cells": [
  {
   "cell_type": "code",
   "execution_count": 2,
   "metadata": {},
   "outputs": [],
   "source": [
    "%matplotlib inline\n",
    "import unifier\n",
    "\n",
    "import sys\n",
    "import matplotlib.pyplot as plt\n",
    "\n",
    "from src.data.preprocess import run_pca\n",
    "from src.data.make_dataset import load_dataset, load_subjects,make_mous_dataset, read_hcp\n",
    "\n",
    "from sklearn import svm\n",
    "from sklearn.metrics import confusion_matrix, accuracy_score\n",
    "from sklearn.ensemble import RandomForestClassifier\n",
    "from sklearn.model_selection import train_test_split\n",
    "import hcp\n",
    "import mne\n",
    "import numpy as np\n",
    "import pandas as pd\n",
    "\n",
    "from sklearn.neighbors import KNeighborsClassifier as KNN\n",
    "\n",
    "\n",
    "import os"
   ]
  },
  {
   "cell_type": "code",
   "execution_count": 5,
   "metadata": {},
   "outputs": [],
   "source": [
    "sampleName = '107473'\n",
    "HCP_DATA_FOLDER = os.getcwd() + '/HCP'\n",
    "sample = read_hcp(sampleName,HCP_DATA_FOLDER,1)\n",
    "PARTITIONS = 5\n",
    "\n",
    "positions,polarPositions,partitions,channelData = unifier.spacialPartitionSensors(sample,PARTITIONS)"
   ]
  },
  {
   "cell_type": "code",
   "execution_count": 6,
   "metadata": {},
   "outputs": [
    {
     "name": "stderr",
     "output_type": "stream",
     "text": [
      "/Users/billymihalarias/anaconda3/lib/python3.7/site-packages/ipykernel_launcher.py:41: SettingWithCopyWarning: \n",
      "A value is trying to be set on a copy of a slice from a DataFrame.\n",
      "Try using .loc[row_indexer,col_indexer] = value instead\n",
      "\n",
      "See the caveats in the documentation: http://pandas.pydata.org/pandas-docs/stable/user_guide/indexing.html#returning-a-view-versus-a-copy\n"
     ]
    }
   ],
   "source": [
    "processedPath = os.getcwd() + \"/Repo/age-classifier/data\"\n",
    "\n",
    "dataset = load_dataset(processedPath+\"/processed/hcp\",processedPath+\"/hcp-eval-dist.csv\")\n",
    "df = pd.DataFrame.from_dict(dataset).set_index('id')\n",
    "df['data'] = df['data'].map(lambda x : x[0])\n",
    "\n",
    "SENSOR_COUNT = df['data'][0].shape[0]\n",
    "FREQUENCY_COUNT = df['data'][0].shape[1]\n",
    "\n",
    "test = np.array([[df['data'].map(lambda x: x[S,F]) for F in range(FREQUENCY_COUNT)] for S in range(SENSOR_COUNT)])\n",
    "\n",
    "mean = test.mean(axis=2)\n",
    "std = test.std(axis=2)\n",
    "\n",
    "df['dataStandardized'] = df['data'].map(lambda x: (x-mean)/std)\n",
    "\n",
    "channelKinds = np.array([e['kind']._name for e in channelData])\n",
    "mask = np.array([(e == 'FIFFV_MEG_CH') for e in channelKinds])\n",
    "\n",
    "positions, polarPositions, partitions = positions[mask],polarPositions[mask],partitions[mask]\n",
    "\n",
    "CHANNELS = 24\n",
    "BIN_SIZE = PARTITIONS + 1\n",
    "\n",
    "def transformChannels(data,partitions):\n",
    "    bins = [[[]]*BIN_SIZE]*BIN_SIZE\n",
    "    for e,index in zip(data,partitions):\n",
    "        bins[index[0].astype('int')][index[1].astype('int')].append(e)\n",
    "        \n",
    "    data = np.ndarray((BIN_SIZE,BIN_SIZE,CHANNELS))\n",
    "    \n",
    "    for i in range(BIN_SIZE):\n",
    "        for j in range(BIN_SIZE):\n",
    "            data[i][j] = np.mean(bins[i][j],axis=0) \n",
    "    \n",
    "    return data\n",
    "\n",
    "df['dataBinned'] = df['dataStandardized'].map(lambda x : transformChannels(x,partitions))\n",
    "\n",
    "dfout = df[['age', 'gender','dataBinned']]\n",
    "dfout['dataBinned'] = dfout['dataBinned'].map(lambda x: x.ravel())\n",
    "\n",
    "dfout.to_csv(\"processed-eval.csv\")"
   ]
  },
  {
   "cell_type": "code",
   "execution_count": 9,
   "metadata": {},
   "outputs": [
    {
     "name": "stdout",
     "output_type": "stream",
     "text": [
      "data points before processing 5952\n"
     ]
    }
   ],
   "source": [
    "print(\"data points before processing {}\".format(df['data'][0].shape[0] * df['data'][0].shape[1]))"
   ]
  },
  {
   "cell_type": "code",
   "execution_count": 10,
   "metadata": {},
   "outputs": [
    {
     "name": "stdout",
     "output_type": "stream",
     "text": [
      "data points after processing 864\n"
     ]
    }
   ],
   "source": [
    "print(\"data points after processing {}\".format(df['dataBinned'][0].shape[0] * df['dataBinned'][0].shape[1] * df['dataBinned'][0].shape[2]))"
   ]
  },
  {
   "cell_type": "code",
   "execution_count": 11,
   "metadata": {},
   "outputs": [],
   "source": [
    "X = np.stack(df['dataBinned'].map(lambda x: x.flatten()).values)\n",
    "y = df['age'].values"
   ]
  },
  {
   "cell_type": "code",
   "execution_count": 12,
   "metadata": {},
   "outputs": [],
   "source": [
    "X_train, X_test, y_train, y_test = train_test_split(X,y)"
   ]
  },
  {
   "cell_type": "code",
   "execution_count": 13,
   "metadata": {},
   "outputs": [],
   "source": [
    "age_model = svm.SVC(gamma=0.01, C=10.)\n",
    "age_model.fit(X_train, y_train)\n",
    "None"
   ]
  },
  {
   "cell_type": "code",
   "execution_count": 14,
   "metadata": {},
   "outputs": [
    {
     "name": "stdout",
     "output_type": "stream",
     "text": [
      "97.0%\n",
      "[[201   3   7]\n",
      " [  5 204   0]\n",
      " [  0   2 205]]\n"
     ]
    }
   ],
   "source": [
    "print(\"{}%\".format(round(age_model.score(X_test,y_test)*100),2))\n",
    "print(confusion_matrix(y_test, age_model.predict(X_test),labels=['22-25', '26-30', '31-35']))"
   ]
  },
  {
   "cell_type": "code",
   "execution_count": 15,
   "metadata": {},
   "outputs": [],
   "source": [
    "age_model2 = KNN()\n",
    "age_model2.fit(X_train, y_train)\n",
    "None"
   ]
  },
  {
   "cell_type": "code",
   "execution_count": 16,
   "metadata": {},
   "outputs": [
    {
     "name": "stdout",
     "output_type": "stream",
     "text": [
      "95.0%\n",
      "[[198   6   7]\n",
      " [  5 203   1]\n",
      " [  3   7 197]]\n",
      "\n",
      "This accuracy was 99.5% pre grouping\n"
     ]
    }
   ],
   "source": [
    "print(\"{}%\".format(round(age_model2.score(X_test,y_test)*100),2) )\n",
    "print(confusion_matrix(y_test, age_model2.predict(X_test),labels=['22-25', '26-30', '31-35']))\n",
    "print(\"\\nThis accuracy was 99.5% pre grouping\")"
   ]
  },
  {
   "cell_type": "code",
   "execution_count": 17,
   "metadata": {},
   "outputs": [
    {
     "name": "stderr",
     "output_type": "stream",
     "text": [
      "/Users/billymihalarias/anaconda3/lib/python3.7/site-packages/ipykernel_launcher.py:2: SettingWithCopyWarning: \n",
      "A value is trying to be set on a copy of a slice from a DataFrame.\n",
      "Try using .loc[row_indexer,col_indexer] = value instead\n",
      "\n",
      "See the caveats in the documentation: http://pandas.pydata.org/pandas-docs/stable/user_guide/indexing.html#returning-a-view-versus-a-copy\n",
      "  \n"
     ]
    }
   ],
   "source": [
    "dfout = df[['age', 'gender','dataBinned']]\n",
    "dfout['dataBinned'] = dfout['dataBinned'].map(lambda x: x.ravel())\n",
    "\n",
    "dfout.to_csv(\"processed.csv\")"
   ]
  },
  {
   "cell_type": "code",
   "execution_count": 20,
   "metadata": {},
   "outputs": [
    {
     "ename": "AttributeError",
     "evalue": "'numpy.ndarray' object has no attribute 'replace'",
     "output_type": "error",
     "traceback": [
      "\u001b[0;31m---------------------------------------------------------------------------\u001b[0m",
      "\u001b[0;31mAttributeError\u001b[0m                            Traceback (most recent call last)",
      "\u001b[0;32m<ipython-input-20-fdac86901e1b>\u001b[0m in \u001b[0;36m<module>\u001b[0;34m\u001b[0m\n\u001b[0;32m----> 1\u001b[0;31m \u001b[0mdfout\u001b[0m\u001b[0;34m[\u001b[0m\u001b[0;34m'dataBinned'\u001b[0m\u001b[0;34m]\u001b[0m\u001b[0;34m[\u001b[0m\u001b[0;36m0\u001b[0m\u001b[0;34m]\u001b[0m\u001b[0;34m.\u001b[0m\u001b[0mreplace\u001b[0m\u001b[0;34m(\u001b[0m\u001b[0;34m'\\n'\u001b[0m\u001b[0;34m,\u001b[0m \u001b[0;34m''\u001b[0m\u001b[0;34m)\u001b[0m\u001b[0;34m\u001b[0m\u001b[0;34m\u001b[0m\u001b[0m\n\u001b[0m",
      "\u001b[0;31mAttributeError\u001b[0m: 'numpy.ndarray' object has no attribute 'replace'"
     ]
    }
   ],
   "source": [
    "dfout['dataBinned'][0]"
   ]
  },
  {
   "cell_type": "code",
   "execution_count": 19,
   "metadata": {},
   "outputs": [
    {
     "data": {
      "text/plain": [
       "(248, 24)"
      ]
     },
     "execution_count": 19,
     "metadata": {},
     "output_type": "execute_result"
    }
   ],
   "source": [
    "df['data'][0].shape"
   ]
  },
  {
   "cell_type": "code",
   "execution_count": null,
   "metadata": {},
   "outputs": [],
   "source": []
  }
 ],
 "metadata": {
  "kernelspec": {
   "display_name": "Python 3",
   "language": "python",
   "name": "python3"
  },
  "language_info": {
   "codemirror_mode": {
    "name": "ipython",
    "version": 3
   },
   "file_extension": ".py",
   "mimetype": "text/x-python",
   "name": "python",
   "nbconvert_exporter": "python",
   "pygments_lexer": "ipython3",
   "version": "3.7.4"
  }
 },
 "nbformat": 4,
 "nbformat_minor": 2
}
